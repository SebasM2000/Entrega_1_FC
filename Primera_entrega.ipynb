{
 "cells": [
  {
   "cell_type": "markdown",
   "id": "bc052675",
   "metadata": {},
   "source": [
    "<center><h1>&#128121 Primer trabajo: Métodos de Machine Learning no supervisado &#128128</h1></center>\n",
    "<center><h3>Física Computacional II</h3></center>\n",
    "<p><center><i>Sebastián Marín Ruiz </i></center></p>\n",
    "<p><center><i>Facultad de Ciencias Básicas y Tecnologías </i></center></p>\n",
    "<p><center><i>Universidad del Quindío</i></center></p>"
   ]
  },
  {
   "cell_type": "code",
   "execution_count": 9,
   "id": "8494f667",
   "metadata": {},
   "outputs": [],
   "source": [
    "import cv2\n",
    "import numpy as np\n",
    "from matplotlib import pyplot as plt\n",
    "import matplotlib.cm as cm\n",
    "import matplotlib.colors as clrs\n",
    "import os\n",
    "import random\n",
    "from sklearn.manifold import TSNE\n",
    "from sklearn.cluster import KMeans"
   ]
  },
  {
   "cell_type": "code",
   "execution_count": 2,
   "id": "1e44732d",
   "metadata": {},
   "outputs": [],
   "source": [
    "# Ruta al directorio que contiene las imágenes\n",
    "ruta_directorio = 'JEPG'\n",
    "\n",
    "# Inicializa la variable para la menor dimensión encontrada\n",
    "menor_dimension = float('inf')\n",
    "\n",
    "# Itera a través de todas las imágenes en el directorio\n",
    "for nombre_archivo in os.listdir(ruta_directorio):\n",
    "    # Lee la imagen actual\n",
    "    imagen = cv2.imread(os.path.join(ruta_directorio, nombre_archivo))\n",
    "    \n",
    "    # Obtiene las dimensiones de la imagen actual\n",
    "    altura, ancho, canales = imagen.shape\n",
    "    \n",
    "    # Actualiza la variable para la menor dimensión encontrada, si corresponde\n",
    "    if altura * ancho < menor_dimension:\n",
    "        menor_dimension = altura * ancho\n",
    "        imagen_menor_dimension = imagen\n",
    "        dimensiones_imagen_menor_dimension = (ancho, altura)\n",
    "\n",
    "# Muestra la imagen con la menor dimensión encontrada\n",
    "#cv2.imshow('Imagen con menor dimensión', imagen_menor_dimension)\n",
    "#cv2.waitKey(0)\n",
    "#cv2.destroyAllWindows()\n"
   ]
  },
  {
   "cell_type": "code",
   "execution_count": 3,
   "id": "f9902654",
   "metadata": {},
   "outputs": [
    {
     "data": {
      "text/plain": [
       "(360, 444)"
      ]
     },
     "execution_count": 3,
     "metadata": {},
     "output_type": "execute_result"
    }
   ],
   "source": [
    "dimensiones_imagen_menor_dimension"
   ]
  },
  {
   "cell_type": "markdown",
   "id": "02fcbb5c",
   "metadata": {},
   "source": [
    "<h3> Reescalación de imágenes </h3>\n",
    "<hr>"
   ]
  },
  {
   "cell_type": "code",
   "execution_count": 3,
   "id": "10399e0d",
   "metadata": {},
   "outputs": [],
   "source": [
    "nuevo_ancho = 256\n",
    "nueva_altura = 256\n",
    "img_reescalada = \"IMG_recortadas\"\n",
    "\n",
    "for i in os.listdir(ruta_directorio):\n",
    "    imagen = cv2.imread(os.path.join(ruta_directorio, i))\n",
    "    imagen_recortada = cv2.resize(imagen, (nuevo_ancho, nueva_altura))\n",
    "    \n",
    "    cv2.imwrite(os.path.join(img_reescalada, i), imagen_recortada)"
   ]
  },
  {
   "cell_type": "markdown",
   "id": "49e4ae4f",
   "metadata": {},
   "source": [
    "<h3>Reducción de dimensionalidad</h3>\n",
    "<hr>"
   ]
  },
  {
   "cell_type": "code",
   "execution_count": 4,
   "id": "9ac77df5",
   "metadata": {},
   "outputs": [
    {
     "data": {
      "text/plain": [
       "(1000, 256, 256, 3)"
      ]
     },
     "execution_count": 4,
     "metadata": {},
     "output_type": "execute_result"
    }
   ],
   "source": [
    "# Especifica la ruta de la carpeta que contiene las imágenes\n",
    "ruta_img = \"IMG_recortadas\"\n",
    "\n",
    "# Selecciona 1000 imágenes aleatorias\n",
    "file_names = os.listdir(ruta_img)\n",
    "indices_aleatorios = random.sample(range(len(file_names)), 1000)\n",
    "\n",
    "images = []\n",
    "for i in indices_aleatorios:\n",
    "    file_name = file_names[i]\n",
    "    if file_name.endswith('.jpg'):\n",
    "        image = cv2.imread(os.path.join(ruta_img, file_name))\n",
    "        images.append(image)\n",
    "\n",
    "np.shape(images)"
   ]
  },
  {
   "cell_type": "code",
   "execution_count": 5,
   "id": "bd252f26",
   "metadata": {
    "scrolled": true
   },
   "outputs": [
    {
     "name": "stdout",
     "output_type": "stream",
     "text": [
      "(1000, 65536)\n"
     ]
    },
    {
     "name": "stderr",
     "output_type": "stream",
     "text": [
      "C:\\Users\\s\\AppData\\Local\\Programs\\Python\\Python310\\lib\\site-packages\\sklearn\\manifold\\_t_sne.py:800: FutureWarning: The default initialization in TSNE will change from 'random' to 'pca' in 1.2.\n",
      "  warnings.warn(\n",
      "C:\\Users\\s\\AppData\\Local\\Programs\\Python\\Python310\\lib\\site-packages\\sklearn\\manifold\\_t_sne.py:810: FutureWarning: The default learning rate in TSNE will change from 200.0 to 'auto' in 1.2.\n",
      "  warnings.warn(\n"
     ]
    }
   ],
   "source": [
    "# Convierte las imágenes a un array NumPy\n",
    "images = np.array(images)\n",
    "images_gray = [cv2.cvtColor(img, cv2.COLOR_BGR2GRAY) for img in images]\n",
    "images_gray = np.array(images_gray)\n",
    "flat_images = images_gray.reshape((len(images_gray), -1))\n",
    "print(np.shape(flat_images))\n",
    "\n",
    "tsne = TSNE(n_components = 2, random_state = 0)\n",
    "X_tsne = tsne.fit_transform(flat_images)"
   ]
  },
  {
   "cell_type": "code",
   "execution_count": 6,
   "id": "04e9afb1",
   "metadata": {},
   "outputs": [],
   "source": [
    "# Visualiza los resultados con OpenCV\n",
    "max_x, max_y = np.max(X_tsne, axis=0)\n",
    "min_x, min_y = np.min(X_tsne, axis=0)\n",
    "range_x = max_x - min_x\n",
    "range_y = max_y - min_y\n",
    "scale_factor = 500 / max(range_x, range_y)"
   ]
  },
  {
   "cell_type": "code",
   "execution_count": 7,
   "id": "ca5baac6",
   "metadata": {},
   "outputs": [],
   "source": [
    "color_map = cm.get_cmap('jet')\n",
    "color_norm = clrs.Normalize(vmin=0, vmax=255)  # normalizador de 0 a 255\n",
    "\n",
    "color_circulo = cm.ScalarMappable(norm=color_norm, cmap=color_map)"
   ]
  },
  {
   "cell_type": "code",
   "execution_count": 8,
   "id": "4fcfc1b8",
   "metadata": {},
   "outputs": [],
   "source": [
    "img_output = np.ones((550, 550, 3), dtype=np.uint8) * 255\n",
    "for i in range(X_tsne.shape[0]):\n",
    "    x = int((X_tsne[i, 0] - min_x) * scale_factor) + 25\n",
    "    y = int((X_tsne[i, 1] - min_y) * scale_factor) + 25\n",
    "    color = tuple(map(int, 255 * color_circulo.to_rgba(flat_images[i])[0, :3]))\n",
    "    img_output = cv2.circle(img_output, (x, y), 5, color, -1)\n",
    "\n",
    "cv2.imshow('T-SNE', img_output)\n",
    "cv2.waitKey(0)\n",
    "cv2.destroyAllWindows()"
   ]
  }
 ],
 "metadata": {
  "kernelspec": {
   "display_name": "Python 3 (ipykernel)",
   "language": "python",
   "name": "python3"
  },
  "language_info": {
   "codemirror_mode": {
    "name": "ipython",
    "version": 3
   },
   "file_extension": ".py",
   "mimetype": "text/x-python",
   "name": "python",
   "nbconvert_exporter": "python",
   "pygments_lexer": "ipython3",
   "version": "3.10.6"
  }
 },
 "nbformat": 4,
 "nbformat_minor": 5
}
